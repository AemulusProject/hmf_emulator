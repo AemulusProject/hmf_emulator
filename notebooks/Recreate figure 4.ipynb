{
 "cells": [
  {
   "cell_type": "markdown",
   "metadata": {},
   "source": [
    "# Recreating figure 4 from McClintock+ (2018)\n",
    "\n",
    "In this notebook I will show you how to use the emulator to recreate figure 4 from the [McClintock et al. (2018)](http://adsabs.harvard.edu/abs/2018arXiv180405866M), or at least part of it. In this directory I have dumped a measured mass function from one of the test simulations. We will load it in, along with the cosmology, and try to predict the HMF."
   ]
  },
  {
   "cell_type": "code",
   "execution_count": 1,
   "metadata": {},
   "outputs": [],
   "source": [
    "import numpy as np\n",
    "import matplotlib.pyplot as plt\n",
    "%matplotlib inline"
   ]
  },
  {
   "cell_type": "code",
   "execution_count": 2,
   "metadata": {},
   "outputs": [],
   "source": [
    "import hmf"
   ]
  },
  {
   "cell_type": "code",
   "execution_count": 3,
   "metadata": {},
   "outputs": [],
   "source": [
    "e = hmf.hmf_emulator()"
   ]
  },
  {
   "cell_type": "code",
   "execution_count": 4,
   "metadata": {},
   "outputs": [],
   "source": [
    "#Create a cosmology dictionary and set the cosmology in the emulator\n",
    "cosmology={\n",
    "    \"omega_b\":   0.02326,\n",
    "    \"omega_cdm\": 0.1078,\n",
    "    \"w0\":        -0.7265,\n",
    "    \"n_s\":       0.9805,\n",
    "    \"ln10As\":    3.039,\n",
    "    \"H0\":        63.23,\n",
    "    \"N_eff\":     2.95\n",
    "}\n",
    "e.set_cosmology(cosmology)"
   ]
  },
  {
   "cell_type": "code",
   "execution_count": 5,
   "metadata": {},
   "outputs": [],
   "source": [
    "#A function that takes in a box and snapshot number, opens it up and spits it out in a good format\n",
    "def get_data(box, snap):\n",
    "    path  = \"./data_for_notebooks/TestBox%03d_Z%d.txt\"%(box, snap)\n",
    "    cpath = \"./data_for_notebooks/TestBox%03d_Z%d_cov.txt\"%(box, snap)\n",
    "    logMlo, logMhi, N, Mmean = np.genfromtxt(path, unpack=True)\n",
    "    M_edges = 10**np.append(logMlo, logMhi[-1])\n",
    "    err = np.sqrt(np.loadtxt(cpath).diagonal())\n",
    "    return M_edges, N, Mmean, err"
   ]
  },
  {
   "cell_type": "code",
   "execution_count": 6,
   "metadata": {},
   "outputs": [],
   "source": [
    "#Info about the data we are using\n",
    "box = 0\n",
    "snaps = [2, 9]\n",
    "redshifts = [1, 0]\n",
    "volume = 1050.**3 #Mpc/h ^3"
   ]
  },
  {
   "cell_type": "code",
   "execution_count": 7,
   "metadata": {},
   "outputs": [],
   "source": [
    "#A function that takes in a figure and axis and plots the data on it\n",
    "def add_data_to_plot(fig, ax, box, snap, c='k'):\n",
    "    M_edges, N, Mmean, err = get_data(box, snap)\n",
    "    print(Mmean.shape, N.shape, err.shape)\n",
    "    ax.errorbar(Mmean, N, err, ls='', marker='.', color=c)\n",
    "    ax.loglog()\n",
    "    return"
   ]
  },
  {
   "cell_type": "code",
   "execution_count": 8,
   "metadata": {},
   "outputs": [],
   "source": [
    "#A function that takes in the box and snapshot and computes the theory curve from the emulator\n",
    "def compute_theory(box, snap):\n",
    "    M_edges, N, Mmean, err = get_data(box, snap)\n",
    "    z = redshifts[snaps.index(snap)]\n",
    "    N_in_bins = e.n_in_bins(M_edges, z) * volume\n",
    "    return N_in_bins"
   ]
  },
  {
   "cell_type": "code",
   "execution_count": 9,
   "metadata": {},
   "outputs": [],
   "source": [
    "#A function that takes in a box and snapshot, adds the theory curve to the axis\n",
    "def add_theory_to_plot(fig, ax, box, snap, c='k'):\n",
    "    M_edges, N, Mmean, err = get_data(box, snap)\n",
    "    N_in_bins = compute_theory(box, snap)\n",
    "    ax.loglog(Mmean, N_in_bins, ls=\"-\", color=c)\n",
    "    return"
   ]
  },
  {
   "cell_type": "code",
   "execution_count": 10,
   "metadata": {},
   "outputs": [],
   "source": [
    "#Compute percent difference at add to axis\n",
    "def add_percent_diff_to_plot(fig, ax, box, snap, c='k'):\n",
    "    M_edges, N, Mmean, err = get_data(box, snap)\n",
    "    N_in_bins = compute_theory(box, snap)\n",
    "    percent_diff     = 100*(N-N_in_bins)/N_in_bins\n",
    "    percent_diff_err = 100*err/N_in_bins\n",
    "    ax.errorbar(Mmean, percent_diff, percent_diff_err, ls='', marker='.', color=c)\n",
    "    yl = 7\n",
    "    ax.set_ylim(-yl, yl)\n",
    "    return"
   ]
  },
  {
   "cell_type": "code",
   "execution_count": 11,
   "metadata": {},
   "outputs": [
    {
     "name": "stdout",
     "output_type": "stream",
     "text": [
      "((10,), (10,), (10,))\n",
      "((13,), (13,), (13,))\n"
     ]
    },
    {
     "data": {
      "image/png": "[encoded data removed]",
      "text/plain": [
       "<Figure size 432x288 with 2 Axes>"
      ]
     },
     "metadata": {
      "needs_background": "light"
     },
     "output_type": "display_data"
    }
   ],
   "source": [
    "fig, axes = plt.subplots(ncols=1, nrows=2, sharex=True)\n",
    "cs = ['r', 'b']\n",
    "for i,snap in enumerate(snaps):\n",
    "    add_data_to_plot(fig, axes[0], box, snap, c=cs[i])\n",
    "    add_theory_to_plot(fig, axes[0], box, snap, c=cs[i])\n",
    "    add_percent_diff_to_plot(fig, axes[1], box, snap, c=cs[i])"
   ]
  },
  {
   "cell_type": "markdown",
   "metadata": {},
   "source": [
    "Everything looks good the \"large disagreement\" at high masses is due to the insane shot noise on the halos. For instance, shot noise with 10 halos is +-3, which is much larger than the measured JK errorbars. Thus, the emulator seems to work fine."
   ]
  },
  {
   "cell_type": "code",
   "execution_count": null,
   "metadata": {},
   "outputs": [],
   "source": []
  }
 ],
 "metadata": {
  "kernelspec": {
   "display_name": "Python 2",
   "language": "python",
   "name": "python2"
  },
  "language_info": {
   "codemirror_mode": {
    "name": "ipython",
    "version": 2
   },
   "file_extension": ".py",
   "mimetype": "text/x-python",
   "name": "python",
   "nbconvert_exporter": "python",
   "pygments_lexer": "ipython2",
   "version": "2.7.15"
  }
 },
 "nbformat": 4,
 "nbformat_minor": 2
}
